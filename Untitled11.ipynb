{
 "cells": [
  {
   "cell_type": "code",
   "execution_count": null,
   "metadata": {},
   "outputs": [],
   "source": [
    "if (condition):\n",
    "    s1\n",
    "    s2\n",
    "    s3\n"
   ]
  },
  {
   "cell_type": "code",
   "execution_count": null,
   "metadata": {},
   "outputs": [],
   "source": [
    "#if else \n",
    "if(condition):\n",
    "    s1\n",
    "    s2\n",
    "    s3\n",
    "    s4\n",
    "    .\n",
    "    .\n",
    "e"
   ]
  },
  {
   "cell_type": "code",
   "execution_count": 2,
   "metadata": {},
   "outputs": [
    {
     "name": "stdout",
     "output_type": "stream",
     "text": [
      "Enter User Name:Nikita\n",
      "Invalid user Name! Please try again\n"
     ]
    }
   ],
   "source": [
    "user_name=input(\"Enter User Name:\")\n",
    "if user_name==\"Ayush\":\n",
    "    print(\"Welcome Ayush \")\n",
    "else:\n",
    "    print(\"Invalid user Name! Please try again\")"
   ]
  },
  {
   "cell_type": "code",
   "execution_count": 17,
   "metadata": {},
   "outputs": [
    {
     "name": "stdout",
     "output_type": "stream",
     "text": [
      "Enter a Number30\n"
     ]
    }
   ],
   "source": [
    "n=int(input(\"Enter a Number\"))"
   ]
  },
  {
   "cell_type": "code",
   "execution_count": 29,
   "metadata": {},
   "outputs": [
    {
     "name": "stdout",
     "output_type": "stream",
     "text": [
      "Enter a two digit numbernajan\n",
      "No.are equal\n"
     ]
    }
   ],
   "source": [
    "S= input (\"Enter a two digit number\")\n",
    "rev = S[::-1]\n",
    "if (S==rev):\n",
    "    print(\"No.are equal\")\n",
    "else:\n",
    "    print(\"No.are not equal\")"
   ]
  },
  {
   "cell_type": "code",
   "execution_count": 53,
   "metadata": {},
   "outputs": [
    {
     "name": "stdout",
     "output_type": "stream",
     "text": [
      "Enter a two digit number15\n"
     ]
    }
   ],
   "source": [
    "num= int(input(\"Enter a two digit number\"))"
   ]
  },
  {
   "cell_type": "code",
   "execution_count": 31,
   "metadata": {},
   "outputs": [
    {
     "data": {
      "text/plain": [
       "30"
      ]
     },
     "execution_count": 31,
     "metadata": {},
     "output_type": "execute_result"
    }
   ],
   "source": [
    "num"
   ]
  },
  {
   "cell_type": "code",
   "execution_count": 32,
   "metadata": {},
   "outputs": [
    {
     "data": {
      "text/plain": [
       "int"
      ]
     },
     "execution_count": 32,
     "metadata": {},
     "output_type": "execute_result"
    }
   ],
   "source": [
    "type(num)"
   ]
  },
  {
   "cell_type": "code",
   "execution_count": 42,
   "metadata": {},
   "outputs": [
    {
     "name": "stdout",
     "output_type": "stream",
     "text": [
      "Digits are eqaul\n"
     ]
    }
   ],
   "source": [
    "if (num == 11 or num == 22 or num == 33 or num == 44 or num == 55 or num == 66 or num == 77 or num == 88 or num ==99):\n",
    "    print(\"Digits are eqaul\")\n",
    "else:\n",
    "    print(\"Digits are not equal\")"
   ]
  },
  {
   "cell_type": "code",
   "execution_count": null,
   "metadata": {},
   "outputs": [],
   "source": [
    "True or False or False or False or False "
   ]
  },
  {
   "cell_type": "code",
   "execution_count": 50,
   "metadata": {},
   "outputs": [],
   "source": [
    "l=[11,22,33,44,55,66,77,88,99]"
   ]
  },
  {
   "cell_type": "code",
   "execution_count": 54,
   "metadata": {},
   "outputs": [
    {
     "name": "stdout",
     "output_type": "stream",
     "text": [
      "Digits are not Equal\n"
     ]
    }
   ],
   "source": [
    "if num in l:\n",
    "    print(\"Digits are Equal\")\n",
    "else:\n",
    "    print(\"Digits are not Equal\")"
   ]
  },
  {
   "cell_type": "code",
   "execution_count": null,
   "metadata": {},
   "outputs": [],
   "source": [
    "0-40 -D\n",
    "40-50 -C\n",
    "50-60-B\n",
    "60-70-A\n",
    "70-80-A+\n",
    "80-90-A++\n",
    "\n",
    "bus_type=\"SS\""
   ]
  },
  {
   "cell_type": "code",
   "execution_count": null,
   "metadata": {},
   "outputs": [],
   "source": [
    "branch=input(\"Enter Your Branch:\")\n",
    "if branch == 'EE':\n",
    "    print(\"EE is Excellent and core branch\")\n",
    "elif branch == 'ME':\n",
    "    print(\"Good for Manufacturing\")\n",
    "elif branch == 'CE':\n",
    "    print(\"Government Job \")\n",
    "elif branch in [\"CSE\",\"IT\"]:\n",
    "    print(\"Good\")"
   ]
  },
  {
   "cell_type": "code",
   "execution_count": 56,
   "metadata": {},
   "outputs": [
    {
     "data": {
      "text/plain": [
       "'EE'"
      ]
     },
     "execution_count": 56,
     "metadata": {},
     "output_type": "execute_result"
    }
   ],
   "source": [
    "branch"
   ]
  },
  {
   "cell_type": "code",
   "execution_count": null,
   "metadata": {},
   "outputs": [],
   "source": []
  }
 ],
 "metadata": {
  "kernelspec": {
   "display_name": "Python 3",
   "language": "python",
   "name": "python3"
  },
  "language_info": {
   "codemirror_mode": {
    "name": "ipython",
    "version": 3
   },
   "file_extension": ".py",
   "mimetype": "text/x-python",
   "name": "python",
   "nbconvert_exporter": "python",
   "pygments_lexer": "ipython3",
   "version": "3.8.5"
  }
 },
 "nbformat": 4,
 "nbformat_minor": 4
}
